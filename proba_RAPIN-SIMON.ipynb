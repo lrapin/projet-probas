{
 "cells": [
  {
   "cell_type": "markdown",
   "metadata": {},
   "source": [
    "# Instructions {-}\n",
    "Ce sujet est constitué de deux parties : la partie 1 correspond au sujet donné l'an dernier, dont la correction vous est donnée, la partie 2 constitue la partie qui sera évaluée et se place dans la continuité de la partie 1."
   ]
  },
  {
   "cell_type": "markdown",
   "metadata": {},
   "source": [
    "# Enoncé du problème (Partie 1)\n",
    "\n",
    "L'objectif de ce projet est d'estimer la longueur de câble sous-marin nécessaire pour relier deux côtes $A$ et $B$  en utilisant des simulations conditionnelles.\n",
    "\n",
    "\n",
    "Le câble reposera sur le fond marin dont la profondeur est inconnue.\n",
    "Le segment $[AB]$ est discrétisé par une séquence de (N+1) points. On pose $x_0=A$ et pour $i=1,\\dots,N$, $$x_i=x_0+i\\Delta$$ où $$\\Delta = \\frac{AB}{N}$$ de telle sorte que $x_N=B$.\n",
    "On note $z(x)$ la profondeur du fond marin au point $x$ de telle sorte \n",
    "qu'on pourra estimer la longueur totale de câble nécessaire par la somme \n",
    "des longueurs sur les segments de la discrétisation :\n",
    "\n",
    "$$l=\\sum_{i=1}^N\\sqrt{\\Delta^2+(z(x_i)-z(x_{i-1}))^2}.$$\n",
    "\n",
    "Enfin, notons que l'on dispose d'un ensemble de $n$ observations de la \n",
    "profondeur que l'on supposera situées sur des points de discrétisation $z(x_{j_1}),\\dots,z(x_{j_n})$.\n",
    "\n",
    "\n",
    "On adopte un modèle probabiliste pour la profondeur. On suppose que le vecteur des \n",
    "profondeurs sur les points de discrétisation \n",
    "$\\mathbf{z}=(z(x_0),\\dots,z(x_N))$ est la réalisation\n",
    "d'un vecteur aléatoire gaussien $\\mathbf{Z}=(Z(x_0),\\dots,Z(x_N))$ \n",
    "dont le vecteur d'espérance ne contient qu'une seule valeur $\\mu$ \n",
    "répétée $N+1$ fois et dont la matrice de covariance $\\Sigma$ a pour termes $\\sigma_{ij}$\n",
    "définis par $\\sigma_{ij}=C(|x_i-x_j|)$ où $C$ est une\n",
    "fonction décroissante, traduisant le fait que deux points \n",
    "géographiquement proches ont tendance à avoir des profondeurs plus similaires que deux points éloignés.\n",
    "\n",
    "On supposera que la matrice de covariance ainsi \n",
    "générée est définie-positive (en fait, $C$ sera choisie parmi les fonctions qui, \n",
    "appliquées aux termes d'une matrice de distance, produisent des matrices définie-positives). \n",
    "\n",
    "Si on note $L$ la variable aléatoire donnant la longueur de cable nécessaire : \n",
    "$$L=\\sum_{i=1}^N\\sqrt{\\Delta^2+(Z(x_i)-Z(x_{i-1}))^2},$$\n",
    "un bon estimateur de $L$ est fourni par l'espérance conditionnelle \n",
    "\n",
    "$$L^\\star=E[L|Z(x_{j_1})=z(x_{j_1}),\\dots,Z(x_{j_n})=z(x_{j_n})].$$\n",
    "                                                                              \n",
    "Cependant, cette quantité est difficilement accessible par le calcul. \n",
    "On va donc avoir recours à des\n",
    "simulations conditionnelles. C'est-à-dire que l'on va simuler \n",
    "un nombre $K$ de réalités (disons des réalisations du modèle \n",
    "probabiliste choisi), et sur chacune d'entre elle, \n",
    "la quantité de câble nécessaire sera évaluée. \n",
    "On disposera ainsi d'un échantillon $l_{(1)},\\dots,l_{(K)}$ de \n",
    "longueures simulées. Puis on approchera l'espérance conditionnelle  par \n",
    "$$L^\\star=\\frac1{K}\\sum_{k=1}^K l_{(k)}.$$\n",
    "\n",
    "L'objectif de ce projet est donc d'écrire un code permettant \n",
    "d'effectuer cette simulation conditionnelle, puis de l'appliquer \n",
    "au jeu de données fourni et d'en déduire une estimation de la longueur de câble nécessaire."
   ]
  },
  {
   "cell_type": "markdown",
   "metadata": {},
   "source": [
    "## Questions théoriques\n",
    "\n",
    "1. Quel théorème du cours nous autorise-t-il à estimer l'espérance conditionnelle par la moyenne empirique de simulations conditionnelles ?\n",
    "\n",
    "*la loi forte des grands nombres, cf [Proba IV p.16](https://boisgera.github.io/CDIS/output/Probabilit%C3%A9%20IV.pdf), en vérifiant que $L$ est bien intégrable*\n",
    "\n",
    "2. Rappeler la loi conditionnelle du vecteur des composantes de $\\mathbf{Z}$ correspondant aux points de discrétisation\n",
    "sans observation, connaissant les valeurs prises par les composantes aux sites d'observation.\n",
    "\n",
    "*cf. [Proba III p.18](https://boisgera.github.io/CDIS/output/Probabilit%C3%A9%20III.pdf),*\n",
    "\n",
    "3. Si $\\mathbf{Y}=(Y_1,\\dots,Y_p)$ est un vecteur de composantes gaussiennes indépendantes, toutes d'espérance nulle et de variance 1, \n",
    "quelle est la loi du vecteur $\\mathbf{Z}=m+R\\mathbf{Y}$ où $R$ est une matrice $p\\times p$ et $m$ est un vecteur de taille $p$ ?\n",
    "\n",
    "*cf. [Proba V p.12](https://cloud.mines-paristech.fr/index.php/s/GLDwtTAMOJCYk3i/download)*\n",
    "\n",
    "4. En déduire un algorithme de simulation conditionnelle.\n",
    "\n",
    "*Appliquer l'algorithme de la q.3 à la loi conditionnelle (on calculera en particulier l'espérance conditionnelle de $\\mathbf{Z}$ sachant les données et la décomposition de Cholesky de la matrice de covariance conditionnelle sachant les données).*"
   ]
  },
  {
   "cell_type": "markdown",
   "metadata": {},
   "source": [
    "## Données du problème\n",
    "Conventionnellement, $A$ est l'origine, $B=500$, $N=100$.\n",
    "\n",
    "Les données $$\\begin{array}{c|r}i & z(x_i)\\\\\n",
    "\\hline\n",
    "0 & 0\\\\\n",
    "20 & -4\\\\\n",
    "40 & -12.8\\\\\n",
    "60 & -1\\\\\n",
    "80 & -6.5\\\\\n",
    "100 & 0\\end{array}$$\n",
    "\n",
    "L'espérance de chaque composante du vecteur aléatoire $\\mathbf{Z}$ est donnée par $\\mu=-5.$\n",
    "\n",
    "La fonction $C$ est définie par $$C(h)=\\sigma^2 e^{-|h|/a},$$\n",
    "\n",
    "où $|h|$ correspond à la distance entre deux points, $a=50$ et $\\sigma^2=12$.\n"
   ]
  },
  {
   "cell_type": "markdown",
   "metadata": {},
   "source": [
    "## Implémentation"
   ]
  },
  {
   "cell_type": "markdown",
   "metadata": {},
   "source": [
    "### Préambule"
   ]
  },
  {
   "cell_type": "code",
   "execution_count": 110,
   "metadata": {},
   "outputs": [],
   "source": [
    "#Chargement de dépendances\n",
    "\n",
    "import numpy as np\n",
    "import matplotlib.pyplot as plt\n",
    "\n",
    "#Discrétisation\n",
    "A=0\n",
    "B=500\n",
    "N=101 #Nombre de points de discrétisation\n",
    "Delta = (B-A)/(N-1)\n",
    "discretization_indexes = np.arange(N)\n",
    "discretization = discretization_indexes*Delta\n",
    "#Paramètres du modèle\n",
    "\n",
    "mu=-5\n",
    "a = 50\n",
    "sigma2 = 12\n",
    "\n",
    "#Données\n",
    "\n",
    "observation_indexes = [0,20,40,60,80,100]\n",
    "depth = np.array([0,-4,-12.8,-1,-6.5,0])\n",
    "\n",
    "#Indices des composantes correspondant aux observations et aux componsantes non observées\n",
    "\n",
    "unknown_indexes=list(set(discretization_indexes)-set(observation_indexes))\n"
   ]
  },
  {
   "cell_type": "markdown",
   "metadata": {},
   "source": [
    "### Questions\n",
    "\n",
    "1. Ecrire une fonction qui prend en argument la distance entre les points, le paramètre $a$, et le paramètre $\\sigma^2$, et qui retourne la covariance entre deux points.\n",
    "On pourra fournir une matrice de distance à cette fonction. Dans ce cas, la fonction renverra la matrice de covariance."
   ]
  },
  {
   "cell_type": "code",
   "execution_count": 111,
   "metadata": {},
   "outputs": [],
   "source": [
    "#Fonction C\n",
    "\n",
    "def Covexp(dist,rangeval,sigmaval):\n",
    "    return sigmaval * np.exp(-dist/rangeval)\n"
   ]
  },
  {
   "cell_type": "markdown",
   "metadata": {},
   "source": [
    "2. Calculer la matrice de distance."
   ]
  },
  {
   "cell_type": "code",
   "execution_count": 112,
   "metadata": {},
   "outputs": [],
   "source": [
    "distmat=abs(np.subtract.outer(discretization,discretization))"
   ]
  },
  {
   "cell_type": "markdown",
   "metadata": {},
   "source": [
    "3. Calculer la matrice de covariance du vecteur $\\mathbf{Z}=(Z(x_0),\\dots,Z(x_N))$."
   ]
  },
  {
   "cell_type": "code",
   "execution_count": 113,
   "metadata": {},
   "outputs": [],
   "source": [
    "Sigma=Covexp(distmat,a,sigma2)"
   ]
  },
  {
   "cell_type": "markdown",
   "metadata": {},
   "source": [
    "4. Extraire les 3 matrices de covariance suivantes :\n",
    "\n",
    " * entre les observations\n",
    "\n",
    " * entre les observations et les inconnues\n",
    "\n",
    " * entre les inconnues\n"
   ]
  },
  {
   "cell_type": "code",
   "execution_count": 114,
   "metadata": {},
   "outputs": [],
   "source": [
    "SigmaObs = Sigma[observation_indexes,:][:,observation_indexes]\n",
    "SigmaObsUnknown = Sigma[observation_indexes,:][:,unknown_indexes]\n",
    "SigmaUnknown = Sigma[unknown_indexes,:][:,unknown_indexes]"
   ]
  },
  {
   "cell_type": "markdown",
   "metadata": {},
   "source": [
    "5. Calculer l'espérance conditionnelle des composantes non observées connaissant les observations et la représenter avec les données."
   ]
  },
  {
   "cell_type": "code",
   "execution_count": 115,
   "metadata": {},
   "outputs": [],
   "source": [
    "invSigma = np.linalg.inv(SigmaObs) \n",
    "Ec= mu+np.matmul(np.transpose(SigmaObsUnknown),np.matmul(np.linalg.inv(SigmaObs),depth-mu))"
   ]
  },
  {
   "cell_type": "code",
   "execution_count": 116,
   "metadata": {},
   "outputs": [
    {
     "data": {
      "image/png": "[encoded data removed]",
      "text/plain": [
       "<Figure size 432x288 with 1 Axes>"
      ]
     },
     "metadata": {
      "needs_background": "light"
     },
     "output_type": "display_data"
    }
   ],
   "source": [
    "allval1 = np.zeros(N)\n",
    "allval1[unknown_indexes]=Ec\n",
    "allval1[observation_indexes]=depth\n",
    "plt.plot(discretization,allval1)\n",
    "plt.plot(discretization[observation_indexes], depth, 'ro')\n",
    "plt.show()"
   ]
  },
  {
   "cell_type": "markdown",
   "metadata": {},
   "source": [
    "6. Calculer la matrice de variance conditionnelle et tracer sa diagonale (variance conditionnelle) en fonction de la position. Commenter."
   ]
  },
  {
   "cell_type": "code",
   "execution_count": 117,
   "metadata": {},
   "outputs": [],
   "source": [
    "SigmaCond = SigmaUnknown - np.matmul(np.transpose(SigmaObsUnknown),np.matmul(np.linalg.inv(SigmaObs),SigmaObsUnknown))"
   ]
  },
  {
   "cell_type": "code",
   "execution_count": 118,
   "metadata": {},
   "outputs": [
    {
     "data": {
      "image/png": "[encoded data removed]",
      "text/plain": [
       "<Figure size 432x288 with 1 Axes>"
      ]
     },
     "metadata": {
      "needs_background": "light"
     },
     "output_type": "display_data"
    }
   ],
   "source": [
    "allval2 = np.zeros(N)\n",
    "allval2[unknown_indexes]=np.diag(SigmaCond)\n",
    "plt.plot(discretization,allval2)\n",
    "plt.plot(discretization[observation_indexes], np.zeros(np.shape(observation_indexes)[0]), 'ro')\n",
    "plt.show()"
   ]
  },
  {
   "cell_type": "markdown",
   "metadata": {},
   "source": [
    "*On voit ici que la variance est nulle aux points de données (puisque la valeur est fixée) puis qu'elle augmente lorsqu'on s'éloigne des données*"
   ]
  },
  {
   "cell_type": "markdown",
   "metadata": {},
   "source": [
    "7. Effectuer une simulation conditionnelle. Sur un même graphique, tracer la simulation ainsi que les données et l'espérance conditionnelle. Commenter."
   ]
  },
  {
   "cell_type": "code",
   "execution_count": 119,
   "metadata": {},
   "outputs": [],
   "source": [
    "Cholesky = np.linalg.cholesky(SigmaCond)\n",
    "x = np.random.normal(0,1,np.shape(unknown_indexes)[0])\n",
    "simu = Ec + np.matmul(Cholesky,x)"
   ]
  },
  {
   "cell_type": "code",
   "execution_count": 120,
   "metadata": {
    "scrolled": true
   },
   "outputs": [
    {
     "data": {
      "image/png": "[encoded data removed]",
      "text/plain": [
       "<Figure size 432x288 with 1 Axes>"
      ]
     },
     "metadata": {
      "needs_background": "light"
     },
     "output_type": "display_data"
    }
   ],
   "source": [
    "allval3 = np.zeros(N)\n",
    "allval3[unknown_indexes]=simu\n",
    "allval3[observation_indexes]=depth\n",
    "plt.plot(discretization,allval3)\n",
    "plt.plot(discretization,allval1)\n",
    "plt.plot(discretization[observation_indexes], depth, 'ro')\n",
    "plt.show()"
   ]
  },
  {
   "cell_type": "markdown",
   "metadata": {},
   "source": [
    "*l'espérance conditionnelle est lisse car c'est la fonction des données qui minimise la variance ; la simulation conditionnelle reproduit les fluctuations du modèle et donc l'aspect du fond marin*"
   ]
  },
  {
   "cell_type": "markdown",
   "metadata": {},
   "source": [
    "8. Ecrire une fonction qui calcule la longueur du câble en fonction du vecteur des profondeurs et du pas de discrétisation."
   ]
  },
  {
   "cell_type": "code",
   "execution_count": 121,
   "metadata": {},
   "outputs": [],
   "source": [
    "def length(z,delta):\n",
    "    return sum(np.sqrt(Delta**2+(z[1:N]-z[0:-1])**2))"
   ]
  },
  {
   "cell_type": "markdown",
   "metadata": {},
   "source": [
    "9. Utiliser cette fonction pour calculer la longueur du câble à partir de 100 simulations. Comparer l'espérance conditionnelle (estimée) de la longueur avec la longueur de l'espérance conditionnelle."
   ]
  },
  {
   "cell_type": "code",
   "execution_count": 122,
   "metadata": {},
   "outputs": [],
   "source": [
    "K=100000\n",
    "result = np.zeros(K)\n",
    "for i in range(K):\n",
    "    x=np.random.normal(0,1,np.shape(unknown_indexes)[0])\n",
    "    allval3[unknown_indexes]=Ec + np.matmul(Cholesky,x)\n",
    "    result[i]=length(allval3,Delta)\n"
   ]
  },
  {
   "cell_type": "code",
   "execution_count": 123,
   "metadata": {},
   "outputs": [
    {
     "data": {
      "text/plain": [
       "522.4396869272965"
      ]
     },
     "execution_count": 123,
     "metadata": {},
     "output_type": "execute_result"
    }
   ],
   "source": [
    "sum(result)/K"
   ]
  },
  {
   "cell_type": "code",
   "execution_count": 124,
   "metadata": {},
   "outputs": [
    {
     "data": {
      "text/plain": [
       "501.6468416918411"
      ]
     },
     "execution_count": 124,
     "metadata": {},
     "output_type": "execute_result"
    }
   ],
   "source": [
    "length(allval1,Delta)"
   ]
  },
  {
   "cell_type": "markdown",
   "metadata": {},
   "source": [
    "*On donne ici directement les résultats pour 100000 simulations (comparer la vitesse d'éxécution avec votre code pour voir l'intérêt de la vectorisation).*\n",
    "\n",
    "*On voit ici que la longueur donnée par l'espérance conditionnelle est bien moindre que la longueur d'une simulation conditionnelle. Ceci est dû au fait que la simulation conditionnelle va reproduire les fluctuations attendues, au contraire de l'espérance conditionnelle qui minimise la variance.*\n",
    "\n",
    "*NB : On remarquera que c'est le seul endroit où on a utilisé une boucle dans cette correction. On aurait pu s'en passer en utilisant notamment les outils de la librairie Pandas mais le code est plus lisible ainsi.*"
   ]
  },
  {
   "cell_type": "markdown",
   "metadata": {},
   "source": [
    "10. Représenter la suite $M_n$ des moyennes des longueurs de câbles en fonction du nombre de simulations. Commenter."
   ]
  },
  {
   "cell_type": "code",
   "execution_count": 125,
   "metadata": {},
   "outputs": [
    {
     "data": {
      "image/png": "[encoded data removed]",
      "text/plain": [
       "<Figure size 432x288 with 1 Axes>"
      ]
     },
     "metadata": {
      "needs_background": "light"
     },
     "output_type": "display_data"
    }
   ],
   "source": [
    "indice_simu = 1+np.arange(K)\n",
    "plt.plot(indice_simu,np.cumsum(result)/indice_simu)\n",
    "plt.show()"
   ]
  },
  {
   "cell_type": "markdown",
   "metadata": {},
   "source": [
    "*Comme attendu d'après la LFGN, on observe une stabilisation de la valeur moyenne. Les variations sont imperceptibles après quelques dizaines de milliers de simulations*"
   ]
  },
  {
   "cell_type": "markdown",
   "metadata": {},
   "source": [
    "11. Représenter l'histogramme des longueurs de câbles générées."
   ]
  },
  {
   "cell_type": "code",
   "execution_count": 126,
   "metadata": {},
   "outputs": [
    {
     "data": {
      "image/png": "[encoded data removed]",
      "text/plain": [
       "<Figure size 432x288 with 1 Axes>"
      ]
     },
     "metadata": {
      "needs_background": "light"
     },
     "output_type": "display_data"
    }
   ],
   "source": [
    "plt.hist(result,50,density=True)\n",
    "plt.show()"
   ]
  },
  {
   "cell_type": "markdown",
   "metadata": {},
   "source": [
    "*L'histogramme ressemble à une densité gaussienne, avec néanmoins une légère dissymétrie (plus de valeurs fortes).*"
   ]
  },
  {
   "cell_type": "markdown",
   "metadata": {},
   "source": [
    "12. Donner un intervalle de confiance à 95% de la longueur du câble par 2 méthodes différentes. Commenter."
   ]
  },
  {
   "cell_type": "markdown",
   "metadata": {},
   "source": [
    "*1ère méthode : par approximation gaussienne. L'histogramme précédent suggère qu'une loi gaussienne peut bien représenter la loi conditionnelle de la longueur du cable. On obtient un intervalle de confiance en calculant la moyenne (milieu de l'intervalle) et l'écart type de l'échantillon de longueurs de câble puis en appliquant la formule du cours.*"
   ]
  },
  {
   "cell_type": "code",
   "execution_count": 127,
   "metadata": {},
   "outputs": [
    {
     "data": {
      "text/plain": [
       "[516.7619422218166, 528.1174316327764]"
      ]
     },
     "execution_count": 127,
     "metadata": {},
     "output_type": "execute_result"
    }
   ],
   "source": [
    "Ln = sum(result)/K\n",
    "sigman = np.std(result)\n",
    "[Ln - sigman*1.96,Ln + sigman*1.96]"
   ]
  },
  {
   "cell_type": "markdown",
   "metadata": {},
   "source": [
    "*2e méthode : on extrait les quantiles à 2.5% et 97.5% de l'échantillon, c'est-à-dire les valeurs $x_\\alpha$ pour $\\alpha \\in \\{0.025 ; 0.975\\}$telles que* $$\\mathbb{P}(L<x_\\alpha) \\approx \\frac{1}{n}\\sum_{i=1}^N 1_{\\{L_i<x_\\alpha\\}}$$"
   ]
  },
  {
   "cell_type": "code",
   "execution_count": 128,
   "metadata": {},
   "outputs": [
    {
     "data": {
      "text/plain": [
       "array([517.11579988, 528.48122575])"
      ]
     },
     "execution_count": 128,
     "metadata": {},
     "output_type": "execute_result"
    }
   ],
   "source": [
    "np.quantile(result,[0.025,0.975])"
   ]
  },
  {
   "cell_type": "markdown",
   "metadata": {},
   "source": [
    "*ATTENTION : ici l'utilisation du TCL tel qu'exposé au début du chapitre 5 fournissait un intervalle de confiance de l'**espérance de la longueur de câble** et non de la **longueur de câble** (erreur fréquente).*\n",
    "\n",
    "*On voit par ailleurs que la 2e méthode est plus précise car elle est basée directement sur la loi empirique de l'échantillon*"
   ]
  },
  {
   "cell_type": "markdown",
   "metadata": {},
   "source": [
    "13. Donner une estimation de la probabilité que la longueur du câble dépasse 525 m."
   ]
  },
  {
   "cell_type": "code",
   "execution_count": 129,
   "metadata": {},
   "outputs": [
    {
     "data": {
      "text/plain": [
       "0.18505"
      ]
     },
     "execution_count": 129,
     "metadata": {},
     "output_type": "execute_result"
    }
   ],
   "source": [
    "np.mean(result>525)"
   ]
  },
  {
   "cell_type": "markdown",
   "metadata": {},
   "source": [
    "14. Reprendre les questions précédentes avec 1000, 10000 puis 100000 simulations. Commenter"
   ]
  },
  {
   "cell_type": "markdown",
   "metadata": {},
   "source": [
    "*cf. le commentaire de la question 10. On observe une stabilisation progressive des estimateurs des différentes quantités calculées : moyennes, quantiles, probabilité de dépassement de seuil.*"
   ]
  },
  {
   "cell_type": "markdown",
   "metadata": {},
   "source": [
    "# Enoncé 2021 (Partie 2)\n",
    "\n",
    "Nous nous plaçons dans le même cadre que ci-dessus. Nous tenons pour acquis les résultats précédents et allons maintenant approfondir l'analyse."
   ]
  },
  {
   "cell_type": "markdown",
   "metadata": {},
   "source": [
    "## Valeurs positives\n",
    "\n",
    "1. A la question 7 de la partie 1, on peut s'apercevoir que certains profils de profondeur présentent des valeurs positives, ce qui n'a pas de sens si on considère qu'il n'y a pas de partie émergée entre les deux côtes. Proposer et implémenter un algorithme de type rejet qui ne génèrera que des valeurs négatives. Représenter un profil de profondeur généré."
   ]
  },
  {
   "cell_type": "code",
   "execution_count": 130,
   "metadata": {
    "tags": [
     "level_basic"
    ]
   },
   "outputs": [
    {
     "data": {
      "image/png": "[encoded data removed]",
      "text/plain": [
       "<Figure size 432x288 with 1 Axes>"
      ]
     },
     "metadata": {
      "needs_background": "light"
     },
     "output_type": "display_data"
    }
   ],
   "source": [
    "\"\"\"La matrice Cholesky étant triangulaire inférieure, la profondeur simulée à une abscisse i dépend\n",
    "des variables aléatoires x[j] pour j allant de 0 à i, où x est le vecteur gaussien utilisé en première partie.\n",
    "Si i est l'abscisse minimale pour laquelle la profondeur est positive,\n",
    "il suffit alors de recalculer x[i] sans modifier les x[j] avec 0<=j<i\"\"\"\n",
    "\n",
    "Cholesky = np.linalg.cholesky(SigmaCond)\n",
    "n = np.shape(unknown_indexes)[0]\n",
    "x = np.random.normal(0,1,np.shape(unknown_indexes)[0])\n",
    "simu = Ec + np.matmul(Cholesky,x)\n",
    "x_neg = x\n",
    "for i in range(n):\n",
    "    while Ec[i] + np.matmul(Cholesky,x_neg)[i] >= 0 :\n",
    "        x_neg[i] = np.random.normal(0,1)\n",
    "simu_rejet = Ec + np.matmul(Cholesky,x_neg)\n",
    "\n",
    "allval3 = np.zeros(N)\n",
    "allval4 = np.zeros(N)\n",
    "allval3[unknown_indexes]=simu\n",
    "allval4[unknown_indexes]=simu_rejet\n",
    "allval3[observation_indexes]=depth\n",
    "allval4[observation_indexes]=depth\n",
    "plt.plot(discretization,allval1, label = 'moyenne conditionnelle')\n",
    "plt.plot(discretization,allval4, label = 'simulation')\n",
    "plt.plot(discretization[observation_indexes], depth, 'ro')\n",
    "plt.legend()\n",
    "plt.show()"
   ]
  },
  {
   "cell_type": "markdown",
   "metadata": {},
   "source": [
    "2. L'emploi de cet algorithme a-t-il un impact sur la valeur moyenne de la longueur de câble ? Sur l'histogramme des longueurs de câble ? Sur l'intervalle de confiance obtenu par la méthode des quantiles ? Sur la probabilité de dépassement du seuil de 525 m? Donner une estimation du taux de rejet de l'algorithme. Considérer 10000 simulations."
   ]
  },
  {
   "cell_type": "code",
   "execution_count": 131,
   "metadata": {
    "tags": [
     "level_basic"
    ]
   },
   "outputs": [
    {
     "name": "stdout",
     "output_type": "stream",
     "text": [
      "taux de rejet : 0.0430634276901723\n",
      "intervalle de confiance sans rejet : [517.17424973 528.59281008]\n",
      "intervalle de confiance avec rejet : [516.26652215 527.29953383]\n",
      "probabilité de dépassement du seuil sans rejet : 0.1944\n",
      "probabilité de dépassement du seuil avec rejet : 0.1111\n"
     ]
    }
   ],
   "source": [
    "K=10000\n",
    "result = np.zeros(K)\n",
    "result_rejet = np.zeros(K)\n",
    "rejet = np.zeros(K)\n",
    "for i in range(K):\n",
    "    t_rejet = 0\n",
    "    n_iter = 101\n",
    "    x=np.random.normal(0,1,np.shape(unknown_indexes)[0])\n",
    "    allval3[unknown_indexes]= Ec + np.matmul(Cholesky,x)\n",
    "    result[i] = length(allval3,Delta)\n",
    "    x_rejet = x\n",
    "    for j in range(n):\n",
    "        while Ec[j] + np.matmul(Cholesky,x_rejet)[j] >= 0 :\n",
    "            x_rejet[j] = np.random.normal(0,1)\n",
    "            t_rejet += 1\n",
    "            n_iter += 1\n",
    "    allval4[unknown_indexes] = Ec + np.matmul(Cholesky,x_rejet)\n",
    "    result_rejet[i]=length(allval4,Delta)\n",
    "    rejet[i] = t_rejet/n_iter\n",
    "\n",
    "print(f\"taux de rejet : {sum(rejet)/K}\")\n",
    "print(f\"intervalle de confiance sans rejet : {np.quantile(result,[0.025,0.975])}\")\n",
    "print(f\"intervalle de confiance avec rejet : {np.quantile(result_rejet,[0.025,0.975])}\")\n",
    "print(f\"probabilité de dépassement du seuil sans rejet : {np.mean(result>525)}\")\n",
    "print(f\"probabilité de dépassement du seuil avec rejet : {np.mean(result_rejet>525)}\")"
   ]
  },
  {
   "cell_type": "code",
   "execution_count": 132,
   "metadata": {
    "tags": [
     "level_basic"
    ]
   },
   "outputs": [
    {
     "data": {
      "image/png": "[encoded data removed]",
      "text/plain": [
       "<Figure size 432x288 with 1 Axes>"
      ]
     },
     "metadata": {
      "needs_background": "light"
     },
     "output_type": "display_data"
    }
   ],
   "source": [
    "\"\"\"Comparaison des histogrammes\"\"\"\n",
    "\n",
    "plt.hist(result,50,density=True, label = 'sans rejet')\n",
    "plt.hist(result_rejet,50,density=True, label = 'avec rejet')\n",
    "plt.legend()\n",
    "plt.show()"
   ]
  },
  {
   "cell_type": "code",
   "execution_count": 133,
   "metadata": {
    "tags": [
     "level_basic"
    ]
   },
   "outputs": [
    {
     "data": {
      "image/png": "[encoded data removed]",
      "text/plain": [
       "<Figure size 432x288 with 1 Axes>"
      ]
     },
     "metadata": {
      "needs_background": "light"
     },
     "output_type": "display_data"
    }
   ],
   "source": [
    "\"\"\"Comparaison des valeurs moyennes\"\"\"\n",
    "\n",
    "indice_simu = 1+np.arange(K)\n",
    "plt.plot(indice_simu,np.cumsum(result)/indice_simu, label = 'sans rejet')\n",
    "plt.plot(indice_simu,np.cumsum(result_rejet)/indice_simu, label = 'avec rejet')\n",
    "plt.legend()\n",
    "plt.show()"
   ]
  },
  {
   "cell_type": "markdown",
   "metadata": {
    "tags": [
     "level_basic"
    ]
   },
   "source": [
    "On observe que la longueur du câble est en moyenne amoindrie d'environ un mètre. L'intervalle de confiance et l'histogramme sont donc déplacés dans ce sens et la probabilité de dépassement du seuil diminue."
   ]
  },
  {
   "cell_type": "markdown",
   "metadata": {},
   "source": [
    "## Approche Bayésienne\n",
    "\n",
    "Dans la première partie, on a considéré que l'ensemble des paramètres du modèle était parfaitement connu. Toutes choses égales par ailleurs, on va maintenant considérer que la moyenne $\\mu$ est issue d'une estimation entâchée d'une incertitude. Plus précisément, on va modéliser cette incertitude en considérant que $\\mu \\sim \\mathcal{N}(-5,4)$.\n",
    "\n",
    "On va également décomposer le vecteur $\\mathbf{Z}$ en $\\mathbf{Z} = (\\mathbf{Z}_{\\text{OBS}},\\mathbf{Z}_{\\text{UNK}})$. On notera $C_{\\text{OBS}}$ et $C_{\\text{UNK}}$ les matrices de covariance respectives de $\\mathbf{Z}_{\\text{OBS}}$ et $\\mathbf{Z}_{\\text{UNK}}$ ainsi que $C_{\\text{OBS},\\text{UNK}}$ la matrice des covariances entre ces deux vecteurs.\n",
    "\n",
    "### Questions théoriques\n",
    "\n",
    "3. Montrer que $\\mu | \\mathbf{Z}_{\\text{OBS}}= \\mathbf{z}_{\\text{OBS}} \\sim \\mathcal{N}(\\widehat{\\mu},\\widehat{\\sigma}^2)$ avec\n",
    "$$\\widehat{\\sigma}^2 = (\\mathbf{1}^t C_{\\text{OBS}}^{-1} \\mathbf{1} + \\frac1{4})^{-1},$$ \n",
    "où $\\mathbf{1}$ est un vecteur de longueur 6 (soit la longueur du vecteur $\\mathbf{Z}_{\\text{OBS}}$) ne contenant que des 1 et \n",
    "$$\\widehat{\\mu} = \\widehat{\\sigma}^2 (\\mathbf{1}^t C_{\\text{OBS}}^{-1} \\mathbf{z}_{\\text{OBS}} - \\frac{5}{4} )$$\n",
    "Indication : écrire la densité jointe du vecteur $(\\mathbf{Z}_{\\text{OBS}},\\mu)$, calculer $-2 \\ln$ de cette densité puis identifier la forme quadratique faisant intervenir $\\mu$."
   ]
  },
  {
   "cell_type": "markdown",
   "metadata": {
    "tags": [
     "level_basic"
    ]
   },
   "source": [
    "On va calculer la densité $f_{\\mu | Z_{OBS}=z_{OBS}}$ grâce à la formule de Bayes, selon laquelle on a pour tous $\\nu \\in \\mathbb{R}$, $z_{OBS} \\in \\mathbb{R}^6$:\n",
    "\n",
    "$$ f_{\\mu | Z_{OBS}=z_{OBS}}(\\nu)f_{Z_{OBS}}(z_{OBS}) = f_{Z_{OBS} | \\mu=\\nu}(z_{OBS})f_{\\mu}(\\nu)$$\n",
    "\n",
    "Soit $z_{OBS} \\in \\mathbb{R}^6$. On a, par formule du balayage conditionnel :\n",
    "$$\n",
    "\\begin{align*}\n",
    "f_{Z_{OBS}}(z_{OBS}) &= \\int_{\\mathbb{R}} f_{Z_{OBS} | \\mu=\\nu}(z_{OBS})f_{\\mu}(\\nu) \\, \\mathrm{d}\\nu\\\\\n",
    "&= \\int_{\\mathbb{R}} \\left(\\frac{1}{(2\\pi)^6\\sqrt{det(C_{OBS})}}e^{-\\frac{1}{2}(z_{OBS} - \\nu\\cdot1)^TC_{OBS}^{-1}(z_{OBS} - \\nu\\cdot1)}\\right)\\left(\\frac{1}{2\\sqrt{2\\pi}}e^{-\\frac{(\\nu + 5)^2}{8}}\\right) \\, \\mathrm{d}\\nu \\\\\n",
    "&= \\int_{\\mathbb{R}} \\frac{1}{2(2\\pi)^{\\frac{7}{2}}\\sqrt{det(C_{OBS})}}e^{-\\frac{1}{2}\\left((1^TC_{OBS}^{-1}1 + \\frac{1}{4})\\nu^2 + (\\frac{5}{2} - 2\\cdot1^TC_{OBS}^{-1}z_{OBS})\\nu + (z_{OBS}^TC_{OBS}^{-1}z_{OBS} + \\frac{25}{4})\\right)} \\, \\mathrm{d}\\nu \n",
    "\\end{align*}\n",
    "$$\n",
    "\n",
    "On pose : \n",
    "\n",
    "$$\n",
    "\\begin{gather}\n",
    "K = \\dfrac{1}{2(2\\pi)^{\\frac{7}{2}}\\sqrt{det(C_{OBS})}} \\\\ \n",
    "A = 1^TC_{OBS}^{-1}1 + \\dfrac{1}{4} \\\\ \n",
    "B = \\dfrac{5}{2} - 2\\cdot1^TC_{OBS}^{-1}z_{OBS}\\\\  \n",
    "C = z_{OBS}^{T}C_{OBS}^{-1}z_{OBS} + \\dfrac{25}{4}\n",
    "\\end{gather}\n",
    "$$\n",
    "\n",
    "De telle sorte qu'on ait :\n",
    "\n",
    "$$\n",
    "\\begin{align*}\n",
    "f_{Z_{OBS}}(z_{OBS}) &= K \\int_{\\mathbb{R}} e^{-\\frac{1}{2}\\left(A\\nu^2 + B\\nu + C\\right)} \\, \\mathrm{d}\\nu \\\\\n",
    "&= K \\int_{\\mathbb{R}} e^{-\\frac{A}{2}\\left((\\nu + \\frac{B}{2A})^2 + \\frac{C}{A} - \\frac{B^2}{4A^2}\\right)} \\, \\mathrm{d}\\nu \n",
    "\\end{align*}\n",
    "$$\n",
    "\n",
    "Par le changement de variable $ u = \\sqrt{\\dfrac{A}{2}}\\left(\\nu + \\dfrac{B}{2A}\\right)$, on obtient :\n",
    "\n",
    "$$\n",
    "\\begin{align*}\n",
    "f_{Z_{OBS}}(z_{OBS}) &= K\\sqrt{\\dfrac{2}{A}}e^{-\\frac{C - \\frac{B^2}{4A}}{2}}\\int_{\\mathbb{R}} e^{-u^2} \\, \\mathrm{d}u\\\\\n",
    "&= K\\sqrt{\\dfrac{2\\pi}{A}}e^{-\\frac{C - \\frac{B^2}{4A}}{2}}\n",
    "\\end{align*}\n",
    "$$\n",
    "\n",
    "Soit également $\\nu \\in \\mathbb{R}$. On a alors, par formule de Bayes :\n",
    "\n",
    "$$\n",
    "\\begin{align*}\n",
    "f_{\\mu | Z_{OBS}=z_{OBS}}(\\nu)\\cdot K\\sqrt{\\dfrac{2\\pi}{A}}e^{-\\frac{C - \\frac{B^2}{4A}}{2}} &= f_{Z_{OBS} | \\mu=\\nu}(z_{OBS})f_{\\mu}(\\nu)\\\\\n",
    "&= K e^{-\\frac{1}{2}\\left(A\\nu^2 + B\\nu + C\\right)} \\text{, d'après le calcul précédent} \n",
    "\\end{align*}\n",
    "$$\n",
    "\n",
    "Alors :\n",
    "\n",
    "$$\n",
    "\\begin{align*}\n",
    "f_{\\mu | Z_{OBS} = z_{OBS}}(\\nu) &= \\sqrt{\\dfrac{A}{2\\pi}}e^{-\\frac{1}{2}\\left(A\\nu^2 + B\\nu + C + \\frac{B^2}{4A} - C\\right)}\\\\\n",
    "&= \\sqrt{\\dfrac{A}{2\\pi}}e^{-\\frac{A}{2}\\left(\\nu^2 + \\frac{B}{A}\\nu + (\\frac{B}{2A})^2\\right)}\\\\\n",
    "&= \\sqrt{\\dfrac{A}{2\\pi}}e^{-\\frac{A}{2}\\left(\\nu + \\frac{B}{2A}\\right)^2}\n",
    "\\end{align*}\n",
    "$$\n",
    "\n",
    "On obtient le résultat escompté en posant $ \\widehat\\sigma^2 = \\dfrac{1}{A} = \\dfrac{1}{1^TC_{OBS}^{-1}1 + \\dfrac{1}{4}}$ et $\\widehat\\mu = -\\dfrac{B}{2A} =  \\widehat\\sigma^2 \\cdot \\left(1^TC_{OBS}^{-1}z_{OBS} - \\dfrac{5}{4}\\right)$\n"
   ]
  },
  {
   "cell_type": "markdown",
   "metadata": {},
   "source": [
    "4. Montrer que si $X$, $Y$ et $Z$ sont trois vecteurs aléatoires à densité, alors $f_{X,Y|Z = z}(x,y) = f_{X|Y=y,Z=z}(x)f_{Y|Z=Z}(y)$"
   ]
  },
  {
   "cell_type": "markdown",
   "metadata": {
    "tags": [
     "level_basic"
    ]
   },
   "source": [
    "Soient X, Y, et Z trois vecteurs aléatoires à densité à $n_X$, $n_Y$ et $n_Z$ dimensions respectivement. Pour tous $x \\in \\mathbb{R}^{n_X}$, $y \\in \\mathbb{R}^{n_Y}$, $z \\in \\mathbb{R}^{n_Z}$ tels que $f_Y(y) \\neq 0$ et $f_Z(z) \\neq 0$ :\n",
    "\n",
    "$$\n",
    "\\begin{align*}\n",
    "f_{(X,Y)|Z = z}(x,y) &= \\dfrac{f_{(X, Y, Z)}(x, y, z)}{f_Z(z)} \\\\\n",
    "&= \\dfrac{f_{X|(Y, Z) = (y, z)}(x)\\cdot f_{(Y, Z)}(y, z)}{f_Z(z)}\\\\\n",
    "&= f_{X|Y = y, Z = z}(x)\\cdot f_{Y|Z=z}(y)\n",
    "\\end{align*}\n",
    "$$"
   ]
  },
  {
   "cell_type": "markdown",
   "metadata": {},
   "source": [
    "5. En déduire que la densité de $(\\mathbf{Z}_{\\text{UNK}},\\mu) | \\mathbf{Z}_{\\text{OBS}} = \\mathbf{z}_{\\text{OBS}}$ s'écrit comme le produit de $f_{\\mu | \\mathbf{Z}_{\\text{OBS}} = \\mathbf{z}_{\\text{OBS}}}$ et de $f_{\\mathbf{Z}_{\\text{UNK}}| \\mu = \\mu^\\star, \\mathbf{Z}_{\\text{OBS}} = \\mathbf{z}_{\\text{OBS}}}$ que l'on exprimera.\n",
    "\n",
    "    Indication : $f_{\\mathbf{Z}_{\\text{UNK}}| \\mu = \\mu^\\star, \\mathbf{Z}_{\\text{OBS}} = \\mathbf{z}_{\\text{OBS}}}$ est identique à la densité $f_{\\mathbf{Z}_{\\text{UNK}}| \\mathbf{Z}_{\\text{OBS}} = \\mathbf{z}_{\\text{OBS}}}$ utilisée dans la partie 1 avec $\\mu = \\mu^\\star$"
   ]
  },
  {
   "cell_type": "markdown",
   "metadata": {
    "tags": [
     "level_basic"
    ]
   },
   "source": [
    "En appliquant ce qui précède aux vecteurs aléatoires à densité $Z_{UNK}$, $\\mu$ et $Z_{OBS}$, on obtient :\n",
    "\n",
    "$$f_{Z_{UNK},\\mu|Z_{OBS} = z_{OBS}} = f_{Z_{UNK}|\\mu=\\mu^*,Z_{OBS} = z_{OBS}}\\cdot f_{\\mu|Z_{OBS} = z_{OBS}}(\\mu^*)$$\n",
    "\n",
    "On a alors, d'après le cours, pour tout $z_{UNK} \\in \\mathbb{R}^{95}$ :\n",
    "\n",
    "$f_{Z_{UNK}|\\mu=\\mu^*,Z_{OBS} = z_{OBS}}(z_{UNK}) = \\dfrac{1}{(2\\pi)^{\\frac{95}{2}}\\sqrt{det(CS_{Z_{UNK}})}}\\cdot e^{(z_{UNK} - \\psi(z_{OBS}))^TCS_{Z_{UNK}}^{-1}(z_{UNK} - \\psi(z_{OBS}))}$\n",
    "\n",
    "Avec \n",
    "\n",
    "$$ CS_{Z_{UNK}} = C_{UNK} - C_{UNK, OBS}C_{OBS}^{-1}C_{UNK, OBS}^T$$\n",
    "\n",
    "et\n",
    "\n",
    "$$ \\psi(z_{OBS}) = \\mu^*\\cdot 1_{95} + C_{UNK, OBS}C_{OBS}^{-1}(z_{OBS} - \\mu^*\\cdot 1_{6})$$\n",
    "\n",
    "où $1_{95}$ et $1_{6}$ sont les vecteurs de dimensions respectives 95 et 6 ne contenant que des 1."
   ]
  },
  {
   "cell_type": "markdown",
   "metadata": {},
   "source": [
    "### Simulation\n",
    "\n",
    "On va maintenant chercher à simuler les valeurs de $\\mathbf{Z}_{\\text{UNK}}$ en tenant compte de l'incertitude sur $\\mu$.\n",
    "\n",
    "En première approche, on pourrait chercher à obtenir la densité de $\\mathbf{Z}_{\\text{UNK}} | \\mathbf{Z}_{\\text{OBS}} = \\mathbf{z}_{\\text{OBS}}$ en calculant \n",
    "$$\\int_\\mathbb{R} f_{(\\mathbf{Z}_{\\text{UNK}},\\mu) | \\mathbf{Z}_{\\text{OBS}} = \\mathbf{z}_{\\text{OBS}}}(\\mathbf{z}_{\\text{UNK}},\\mu^\\star) d\\mu^\\star$$\n",
    "mais ce calcul a peu de chances d'aboutir.\n",
    "\n",
    "On va plutôt procéder par simulations en cascade, c'est-à-dire que pour chaque simulation de $\\mathbf{Z}_{\\text{UNK}}$, on va d'abord générer une valeur $\\mu^\\star$ de $\\mu$ selon $f_{\\mu | \\mathbf{Z}_{\\text{OBS}}= \\mathbf{z}_{\\text{OBS}}}$ puis on simulera $\\mathbf{Z}_{\\text{UNK}}$ selon $f_{\\mathbf{Z}_{\\text{UNK}}| \\mathbf{Z}_{\\text{OBS}} = \\mathbf{z}_{\\text{OBS}},\\mu = \\mu^\\star}$.\n"
   ]
  },
  {
   "cell_type": "markdown",
   "metadata": {},
   "source": [
    "6. Calculer $\\widehat{\\mu}$ et $\\widehat{\\sigma}^2$. "
   ]
  },
  {
   "cell_type": "code",
   "execution_count": 134,
   "metadata": {
    "tags": [
     "level_basic"
    ]
   },
   "outputs": [
    {
     "name": "stdout",
     "output_type": "stream",
     "text": [
      "𝜎ˆ2 = 1.53689\n",
      "𝜇ˆ = -4.29135\n"
     ]
    }
   ],
   "source": [
    "vec1 = np.ones(6) #vecteur de 1\n",
    "\n",
    "val = np.matmul (np.transpose(vec1), np.matmul(np.linalg.inv(SigmaObs), vec1) )\n",
    "sigc2 = 1/(val+0.25) \n",
    "print(f\"𝜎ˆ2 = {round(sigc2,5)}\") #sigma chapeau carré\n",
    "\n",
    "\n",
    "muc = sigc2 * (np.matmul (np.transpose(vec1), np.matmul(np.linalg.inv(SigmaObs), depth) ) - 5/4 )\n",
    "print(f\"𝜇ˆ = {round(muc, 5)}\") #mu chapeau"
   ]
  },
  {
   "cell_type": "markdown",
   "metadata": {},
   "source": [
    "7. Calculer la probabilité de $\\{\\mu| \\mathbf{Z}_{\\text{OBS}} = \\mathbf{z}_{\\text{OBS}} > 0\\}$. Proposer et implémenter un algorithme de simulation de $\\mu| \\mathbf{Z}_{\\text{OBS}} = \\mathbf{z}_{\\text{OBS}}, \\mu <0$."
   ]
  },
  {
   "cell_type": "code",
   "execution_count": 135,
   "metadata": {
    "tags": [
     "level_basic"
    ]
   },
   "outputs": [
    {
     "name": "stdout",
     "output_type": "stream",
     "text": [
      "P( 𝜇|𝐙OBS=𝐳OBS > 0 ) = 0.00262\n",
      "Cette valeur est faible. En quelques essais (très souvent un seul est suffisant) nous obtenons une valeur simulée négative\n",
      "\n",
      " 𝜇|𝐙OBS=zobs = -4.33758\n"
     ]
    }
   ],
   "source": [
    "#P(𝜇|𝐙OBS=𝐳OBS>0) = 1 - F(0), avec F la fonction de répartition de la loi normale N(𝜇ˆ,𝜎ˆ2)\n",
    "import scipy.stats\n",
    "proba = 1 - scipy.stats.norm(muc, sigc2).cdf(0) #cdf = cumulative distribution function = fonction de répartition\n",
    "print(f\"P( 𝜇|𝐙OBS=𝐳OBS > 0 ) = {round(proba, 5)}\")\n",
    "print(\"Cette valeur est faible. En quelques essais (très souvent un seul est suffisant) nous obtenons une valeur simulée négative\\n\")\n",
    "\n",
    "def simumu():\n",
    "    for i in range(5):\n",
    "        x = np.random.normal(muc, sigc2)\n",
    "        if ( x<0 ):\n",
    "            return x\n",
    "    else:\n",
    "        raise ValueError(f\"no convergence in 5 steps.\")\n",
    "\n",
    "print(f\" 𝜇|𝐙OBS=zobs = {round(simumu(), 5)}\")"
   ]
  },
  {
   "cell_type": "markdown",
   "metadata": {},
   "source": [
    "8. Générer un couple $\\mathbf{Z}_{\\text{UNK}}, \\mu| \\mathbf{Z}_{\\text{OBS}}, \\mu <0$ et représenter le profil de profondeur obtenu. On prendra soin de ne générer que des valeurs négatives de $\\mathbf{Z}_{\\text{UNK}}$ en utilisant l'algorithme de la section précédente."
   ]
  },
  {
   "cell_type": "code",
   "execution_count": 136,
   "metadata": {
    "scrolled": true,
    "tags": [
     "level_basic"
    ]
   },
   "outputs": [
    {
     "data": {
      "image/png": "[encoded data removed]",
      "text/plain": [
       "<Figure size 432x288 with 1 Axes>"
      ]
     },
     "metadata": {
      "needs_background": "light"
     },
     "output_type": "display_data"
    }
   ],
   "source": [
    "#On génère 𝜇|𝐙OBS=𝐳OBS,𝜇<0 avec l'algorithme précédent pour que µ soit négative\n",
    "mu_2 = simumu()\n",
    "#On actualise Ec avec la nouvelle valeur de 𝜇\n",
    "Ec_2= mu_2 + np.matmul(np.transpose(SigmaObsUnknown),np.matmul(np.linalg.inv(SigmaObs),depth-mu_2))\n",
    "\n",
    "#On applique l'algorithme de la question 1 pour générer Zunk avec des valeurs négatives uniquement\n",
    "Cholesky = np.linalg.cholesky(SigmaCond)\n",
    "n = np.shape(unknown_indexes)[0]\n",
    "x = np.random.normal(0,1,np.shape(unknown_indexes)[0])\n",
    "simu_2 = Ec_2 + np.matmul(Cholesky,x)\n",
    "x_neg = x\n",
    "for i in range(n):\n",
    "    while Ec_2[i] + np.matmul(Cholesky,x_neg)[i] >= 0 :\n",
    "        x_neg[i] = np.random.normal(0,1)\n",
    "simu_rejet_2 = Ec_2 + np.matmul(Cholesky,x_neg)\n",
    "\n",
    "allval3_2 = np.zeros(N)\n",
    "allval4_2 = np.zeros(N)\n",
    "allval3_2[unknown_indexes]=simu_2\n",
    "allval4_2[unknown_indexes]=simu_rejet_2\n",
    "allval3_2[observation_indexes]=depth\n",
    "allval4_2[observation_indexes]=depth\n",
    "plt.plot(discretization,allval1, label = 'moyenne conditionnelle')\n",
    "plt.plot(discretization,allval4_2, label = 'simulation')\n",
    "plt.plot(discretization[observation_indexes], depth, 'ro')\n",
    "plt.legend()\n",
    "plt.show()"
   ]
  },
  {
   "cell_type": "markdown",
   "metadata": {},
   "source": [
    "9. Générer 10000 profils de profondeur et calculer les longueurs de câble associées. Comparer la valeur moyenne de la longueur de câble, dont on visualisera la convergence, l'histogramme des longueurs de câble, l'intervalle de confiance obtenu par la méthode des quantiles, la probabilité de dépassement du seuil de 525 m avec les résultats obtenus précédemment. Commenter."
   ]
  },
  {
   "cell_type": "code",
   "execution_count": 145,
   "metadata": {
    "tags": [
     "level_basic"
    ]
   },
   "outputs": [
    {
     "name": "stdout",
     "output_type": "stream",
     "text": [
      "taux de rejet : 0.05570964588198317\n",
      "intervalle de confiance avec rejet : [516.26652215 527.29953383]\n",
      "probabilité de dépassement du seuil avec rejet : 0.1111\n",
      "\n",
      "\n",
      "intervalle de confiance avec rejet, mu aléatoire : [515.97444865 526.78579249]\n",
      "probabilité de dépassement du seuil avec rejet, mu aléatoire : 0.0845\n"
     ]
    }
   ],
   "source": [
    "K=10000\n",
    "result_mu = np.zeros(K)\n",
    "result_rejet_mu = np.zeros(K)\n",
    "rejet_mu = np.zeros(K)\n",
    "for i in range(K):\n",
    "    t_rejet = 0\n",
    "    n_iter = 101\n",
    "    x = np.random.normal(0,1,np.shape(unknown_indexes)[0])\n",
    "    allval3_2[unknown_indexes]= Ec_2 + np.matmul(Cholesky,x)\n",
    "    result_mu[i] = length(allval3_2, Delta)\n",
    "    x_rejet = x\n",
    "    for j in range(n):\n",
    "        while Ec_2[j] + np.matmul(Cholesky,x_rejet)[j] >= 0 :\n",
    "            x_rejet[j] = np.random.normal(0,1)\n",
    "            t_rejet += 1\n",
    "            n_iter += 1\n",
    "    allval4_2[unknown_indexes] = Ec_2 + np.matmul(Cholesky,x_rejet)\n",
    "    result_rejet_mu[i]=length(allval4_2,Delta)\n",
    "    rejet_mu[i] = t_rejet/n_iter\n",
    "\n",
    "print(f\"taux de rejet : {sum(rejet_mu)/K}\")\n",
    "#print(f\"intervalle de confiance sans rejet : {np.quantile(result,[0.025,0.975])}\")\n",
    "print(f\"intervalle de confiance avec rejet : {np.quantile(result_rejet,[0.025,0.975])}\")\n",
    "#print(f\"probabilité de dépassement du seuil sans rejet : {np.mean(result>525)}\")\n",
    "print(f\"probabilité de dépassement du seuil avec rejet : {np.mean(result_rejet>525)}\")\n",
    "print(\"\\n\")\n",
    "#print(f\"intervalle de confiance sans rejet, mu aléatoire : {np.quantile(result,[0.025,0.975])}\")\n",
    "print(f\"intervalle de confiance avec rejet, mu aléatoire : {np.quantile(result_rejet_mu,[0.025,0.975])}\")\n",
    "#print(f\"probabilité de dépassement du seuil sans rejet, mu aléatoire : {np.mean(result>525)}\")\n",
    "print(f\"probabilité de dépassement du seuil avec rejet, mu aléatoire : {np.mean(result_rejet_mu>525)}\")"
   ]
  },
  {
   "cell_type": "code",
   "execution_count": 146,
   "metadata": {
    "tags": [
     "level_basic"
    ]
   },
   "outputs": [
    {
     "data": {
      "image/png": "[encoded data removed]",
      "text/plain": [
       "<Figure size 432x288 with 1 Axes>"
      ]
     },
     "metadata": {
      "needs_background": "light"
     },
     "output_type": "display_data"
    }
   ],
   "source": [
    "\"\"\"Comparaison des histogrammes\"\"\"\n",
    "\n",
    "#plt.hist(result_mu,50,density=True, label = 'sans rejet, mu aléatoire')\n",
    "plt.hist(result_rejet_mu,50,density=True, label = 'avec rejet, mu aléatoire')\n",
    "#plt.hist(result,50,density=True, label = 'sans rejet')\n",
    "plt.hist(result_rejet,50,density=True, label = 'avec rejet')\n",
    "\n",
    "plt.legend()\n",
    "plt.show()"
   ]
  },
  {
   "cell_type": "code",
   "execution_count": 147,
   "metadata": {
    "tags": [
     "level_basic"
    ]
   },
   "outputs": [
    {
     "data": {
      "image/png": "[encoded data removed]",
      "text/plain": [
       "<Figure size 432x288 with 1 Axes>"
      ]
     },
     "metadata": {
      "needs_background": "light"
     },
     "output_type": "display_data"
    }
   ],
   "source": [
    "\"\"\"Comparaison des valeurs moyennes\"\"\"\n",
    "\n",
    "indice_simu = 1+np.arange(K)\n",
    "#plt.plot(indice_simu,np.cumsum(result)/indice_simu, label = 'sans rejet')\n",
    "plt.plot(indice_simu,np.cumsum(result_rejet_mu)/indice_simu, label = 'avec rejet, mu aléatoire')\n",
    "plt.plot(indice_simu,np.cumsum(result_rejet)/indice_simu, label = 'avec rejet')\n",
    "\n",
    "plt.legend()\n",
    "plt.show()"
   ]
  },
  {
   "cell_type": "markdown",
   "metadata": {},
   "source": [
    "10. Qu'adviendrait-il selon vous si on rendait également aléatoires les autres paramètres du modèle $\\sigma^2$ et $a$ ?"
   ]
  },
  {
   "cell_type": "markdown",
   "metadata": {
    "tags": [
     "level_basic"
    ]
   },
   "source": [
    "Rendre aléatoire une des données du problème a mis en évidence que la longueur de câble est moins importante. Ainsi, si 𝜎²  et 𝑎 sont aléatoires, la longueur de câble espérée sera encore moins importante. Cette modélisaion tient compte de l'erreur de mesure qui est faite sur les paramètres du problème, et la longueur obtenue est plus réaliste."
   ]
  },
  {
   "cell_type": "markdown",
   "metadata": {},
   "source": [
    "11. (facultatif) On suppose désormais que $\\alpha = \\frac1{\\sigma^2} \\sim \\Gamma(a_1,a_2)$, où $\\sigma^2$ correspond au paramètre qui intervient dans la fonction $C$. Donner l'expression de la densité de $\\alpha | \\mathbf{Z}_{\\text{OBS}} = \\mathbf{z}_{\\text{OBS}}$,  de $\\mu | \\alpha, \\mathbf{Z}_{\\text{OBS}} = \\mathbf{z}_{\\text{OBS}},$ et de $\\mathbf{Z}_{\\text{UNK}} | \\mu, \\alpha, \\mathbf{Z}_{\\text{OBS}} = \\mathbf{z}_{\\text{OBS}}$. Proposer un algorithme de simulation tenant compte de l'incertitude sur le paramètre $\\alpha$ et analyser son impact sur les différentes quantités évaluées.\n",
    "\n",
    "    Indication : Pour identifier la densité de $\\alpha | \\mathbf{Z}_{\\text{OBS}} = \\mathbf{z}_{\\text{OBS}}$, exprimer d'abord la densité jointe de $(\\alpha,\\mu, \\mathbf{Z}_{\\text{OBS}})$ puis marginaliser pour obtenir la densité de $(\\alpha,\\mathbf{Z}_{\\text{OBS}})$\n"
   ]
  }
 ],
 "metadata": {
  "@webio": {
   "lastCommId": "5ceb69a5bbd14071b254c2439a58ac4b",
   "lastKernelId": "0e923419-c540-42c1-ab5f-d0e05ff4521c"
  },
  "kernelspec": {
   "display_name": "Python 3",
   "language": "python",
   "name": "python3"
  },
  "language_info": {
   "codemirror_mode": {
    "name": "ipython",
    "version": 3
   },
   "file_extension": ".py",
   "mimetype": "text/x-python",
   "name": "python",
   "nbconvert_exporter": "python",
   "pygments_lexer": "ipython3",
   "version": "3.8.3"
  }
 },
 "nbformat": 4,
 "nbformat_minor": 2
}
